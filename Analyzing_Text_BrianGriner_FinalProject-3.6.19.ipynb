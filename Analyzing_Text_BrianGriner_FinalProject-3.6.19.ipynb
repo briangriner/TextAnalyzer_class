{
 "cells": [
  {
   "cell_type": "markdown",
   "metadata": {},
   "source": [
    "# Analyzing Text"
   ]
  },
  {
   "cell_type": "markdown",
   "metadata": {},
   "source": [
    "Write the TextAnalyzer class in the cell below. We have already imported some libraries that should be useful to you."
   ]
  },
  {
   "cell_type": "code",
   "execution_count": 3,
   "metadata": {},
   "outputs": [],
   "source": [
    "import requests, re\n",
    "from bs4 import BeautifulSoup\n",
    "from collections import Counter\n",
    "import statistics as stats\n",
    "import string\n",
    "import pandas as pd\n",
    "\n",
    "\n",
    "# create your class here\n",
    "class TextAnalyzer:\n",
    "    \"\"\"Reads a source: url, text file or string obj and provides methods \n",
    "    and properties as well as plots to analyze the distributions of words\n",
    "    and characters in the text of the source file.\n",
    "\n",
    "    Keyword arguments:\n",
    "    src (obj) -- a url path, text file or string obj to analyze.\n",
    "    src_type -- source type. Options are: url, path to text file, text \n",
    "    string contained in program or discover method to determine source\n",
    "    type.\"\"\"\n",
    "\n",
    "    def __init__(self, src, src_type=None):\n",
    "        \"\"\"Creates object from source file to analyze text.\n",
    "        \n",
    "        Keyword arguments:\n",
    "        src (str) -- URL, path to text file or string containing text.\n",
    "        src_type (str) -- file type of input source (URL, path to text\n",
    "        file, string containing text or None to call discover method).\"\"\"\n",
    "        self._src = src\n",
    "        self._src_type = src_type\n",
    "        self._orig_content = None\n",
    "        self._content = None\n",
    "        if self._src_type is None:\n",
    "            self._src_type = self.discover()\n",
    "            print(f'Source type from discover method is {self._src_type}.')\n",
    "        elif self._src_type in ('url', 'path', 'text'):\n",
    "            self.fetch_by_src_type(self._src_type)\n",
    "        else:\n",
    "            print(f'''The source type {self._src_type} is not recognized. \n",
    "            Try removing src_type= parameter for discover method.''')\n",
    "        self.minlen = None\n",
    "        self.maxlen = None\n",
    "        self.count = None\n",
    "        self.casesensitive = None\n",
    "\n",
    "    def discover(self):\n",
    "        \"\"\"Determines if source object is an html file, text file or\n",
    "        text string.\"\"\"\n",
    "        if self._src.startswith('http'):\n",
    "            self._src_type = 'url'\n",
    "        elif self._src.endswith('txt'):\n",
    "            self._src_type = 'path'\n",
    "        else:\n",
    "            self._src_type = 'text'\n",
    "        return self._src_type\n",
    "\n",
    "    def fetch_by_src_type(self, src_type):\n",
    "        \"\"\"Method using src_type to determine how to read the source file.\n",
    "        \n",
    "        Keyword arguments: src_type (str) -- URL, path to text file or \n",
    "        text string.\"\"\"\n",
    "        self._src_type = src_type\n",
    "        # select correct read method for source type\n",
    "        if self._src_type == 'url':\n",
    "            headers = {'user-agent': 'my-app/0.0.1'}\n",
    "            req = requests.get(self._src, headers=headers)\n",
    "            self._orig_content = req.text\n",
    "            # print(self._orig_content)\n",
    "            return self._orig_content\n",
    "        elif self._src_type == 'path':\n",
    "            with open(self._src, 'r') as f:\n",
    "                self._orig_content = f.read().strip(string.punctuation)\n",
    "                # print(self._orig_content)\n",
    "                return self._orig_content\n",
    "        else:\n",
    "            self._src_type = 'text'\n",
    "            self._orig_content = self._src  # read text string in prg\n",
    "            # print(self._orig_content)\n",
    "            return self._orig_content\n",
    "        \n",
    "    @property\n",
    "    def orig_content(self):\n",
    "        \"\"\"Property to directly access results from fetch_by_src_type\n",
    "        method.\"\"\"\n",
    "        return self._orig_content\n",
    "\n",
    "    def set_content_to_tag(self, tag='div', tag_id='content-main'):\n",
    "        \"\"\"Method uses beautiful soup library to parse HTML for a given\n",
    "        tag and id after call to fetch_by_src_type(src_type='url). \n",
    "        Throws ValueError exception if tag not found. \n",
    "        Method is only used if src_type is URL.\n",
    "\n",
    "        Keyword arguments:\n",
    "        tag('str') -- HTML tag name\n",
    "        tag_id('str') -- HTML tag id\"\"\"\n",
    "        # call fetch method for URL\n",
    "        self.fetch_by_src_type(src_type='url')\n",
    "        try:\n",
    "            # create beautiful soup object for tag and id\n",
    "            soup = BeautifulSoup(self._orig_content, 'html.parser')\n",
    "            # get text and assign to _content attribute\n",
    "            self._content = soup.find(tag, {'id': tag_id}).get_text()\n",
    "            # print(self._content)\n",
    "        except ValueError:\n",
    "            # raise exception of tag or tag_id is not found\n",
    "            if tag is None or tag_id is None:\n",
    "                print(f\"Tag {tag} or Tag_id {tag_id} is not found.\")\n",
    "        return self._orig_content\n",
    "\n",
    "    \n",
    "    def reset_content(self):\n",
    "        \"\"\"Reset _content attribute to _orig_content fetched by requests\n",
    "        module. Useful after call to set_content_to_tag method, e.g. if\n",
    "        you want to use a different tag or id to analyze the same URL.\n",
    "        \n",
    "        Use when you want to create a new beautiful soup object based on\n",
    "        a new tag or tag id using set_content_to_tag method. Saves call\n",
    "        to requests module since html content is already in\n",
    "        _orig_content attribute.\"\"\"\n",
    "        if self._src_type == 'url':\n",
    "            self._content = self._orig_content\n",
    "            # confirm reset to _orig_content\n",
    "            print('confirm reset_content: ', self._content[0])\n",
    "            return self._content\n",
    "        else:\n",
    "            print(f'Source type {self._src_type} is not a URL.')\n",
    "  \n",
    "    def _words(self, casesensitive=False):\n",
    "        \"\"\"If casesensitive=False: returns list of words in upper case.\n",
    "        If casesensitive=True: returns list of words from _orig_content.\n",
    "        Returns list of words.\n",
    "        \n",
    "        Keyword arguments: \n",
    "        casesensitive (bool) -- Returns uppercase words if False\n",
    "        (default).\"\"\"\n",
    "        if casesensitive is False:\n",
    "            self._content = [word.strip(string.punctuation).upper() for word in self._orig_content.split()]\n",
    "        else:\n",
    "            self._content = [word.strip(string.punctuation) for word in self._orig_content.split()]\n",
    "        # print('_words(): self._content:\\n', self._content)\n",
    "        return self._content\n",
    "    \n",
    "    \n",
    "    def common_words(self, minlen=1, maxlen=100, count=10, casesensitive=False):\n",
    "        \"\"\"Returns list of 2-element tuples in the format: (word: num)\n",
    "        where num is a count of word occurences in the content obtained\n",
    "        from the _words method using Counter().most_common() method\n",
    "        from collections module.\n",
    "        \n",
    "        Keyword arguments:\n",
    "        minlen (int) -- Minimum length for word to be included.\n",
    "        maxlen (int) -- Maximum length for word to be included.\n",
    "        count (int) -- Number of words to include in the results.\n",
    "        casesensitive (bool) -- Returns uppercase words if False\n",
    "        (default).\"\"\"\n",
    "        self.minlen = minlen\n",
    "        print('self.minlen:', self.minlen)\n",
    "        self.maxlen = maxlen\n",
    "        print('self.maxlen:', self.maxlen)\n",
    "        self.count = count\n",
    "        print('self.count:', self.count)\n",
    "        self.casesensitive = casesensitive\n",
    "        print('self.casesensitive:', self.casesensitive)\n",
    "        _word_list = []\n",
    "        if casesensitive is False:\n",
    "            # _word_list = [w.upper() for w in self._words() if (len(w) >= self.minlen) & (len(w) <= self.maxlen)]\n",
    "            _word_list = [w.upper() for w in self.words if (len(w) >= self.minlen) & (len(w) <= self.maxlen)]\n",
    "            # print('self.words: casesensitive is False\\n', _word_list)\n",
    "        else:\n",
    "            # _word_list = [w for w in self._words() if (len(w) >= self.minlen) & (len(w) <= self.maxlen)]\n",
    "            _word_list = [w for w in self.words if (len(w) >= self.minlen) & (len(w) <= self.maxlen)]\n",
    "            # print('_word_list: casesensitive is True\\n', _word_list)\n",
    "        # use Counter from collections module\n",
    "        cnt = Counter(_word_list)\n",
    "        return cnt.most_common(count)\n",
    "\n",
    "    def plot_common_words(self, minlen=1, maxlen=100, count=10, casesensitive=False):\n",
    "        \"\"\"Plots distribution of most common words in a bar chart from\n",
    "        matplotlib module.\n",
    "        \n",
    "        Keyword arguments:\n",
    "        minlen (int) -- Minimum length for word to be included.\n",
    "        maxlen (int) -- Maximum length for word to be included.\n",
    "        count (int) -- Number of words to include in the results.\n",
    "        casesensitive (bool) -- Returns uppercase words if False\n",
    "        (default).\"\"\"\n",
    "        self.minlen = minlen\n",
    "        print('self.minlen:', self.minlen)\n",
    "        self.maxlen = maxlen\n",
    "        print('self.maxlen:', self.maxlen)\n",
    "        self.count = count\n",
    "        print('self.count:', self.count)\n",
    "        self.casesensitive = casesensitive\n",
    "        print('self.casesensitive:', self.casesensitive)\n",
    "        # convert list into DF\n",
    "        _words = self.common_words(minlen=5, maxlen=10)\n",
    "        df_cw = pd.DataFrame(self.common_words(self.minlen, self.maxlen, self.count, self.casesensitive))\n",
    "        print('df_cw shape is: ', df_cw.shape)\n",
    "        df_cw.columns = ['Word', 'Count']\n",
    "        df_cw.index = df_cw['Word']\n",
    "        # print(df_cw)\n",
    "        plt_words = df_cw.plot(kind='bar',\n",
    "                               title='Common Words',\n",
    "                               figsize=(12, 6),\n",
    "                               width=.8,\n",
    "                               fontsize=16)\n",
    "        plt_words.set_ylabel('Word', fontsize=20)\n",
    "        plt_words.set_xlabel('Count', fontsize=20)\n",
    "        plt_words.grid(True)\n",
    "\n",
    "    def char_distribution(self, casesensitive=False, letters_only=False):\n",
    "        \"\"\"Returns a list of 2 element tuples (char, num) where char is\n",
    "        character and num is the count of char.\n",
    "        \n",
    "        Keyword arguments:\n",
    "        casesensitive (bool) -- Returns uppercase words if False\n",
    "        (default).\n",
    "        letters_only (bool) -- Includes alpha characters only if True.\"\"\"\n",
    "        # re for selecting only alpha chars for letters_only=True\n",
    "        notalpha = re.compile('[^a-zA-Z]')\n",
    "        _chars_only = notalpha.sub('', self._orig_content.rstrip('\\n'))\n",
    "        if not casesensitive and not letters_only:\n",
    "            _chars_clean = [char.upper() for char in self._orig_content]\n",
    "        elif casesensitive and not letters_only:\n",
    "            _chars_clean = [char for char in self._orig_content]\n",
    "        elif not casesensitive and letters_only:\n",
    "            _chars_clean = [char.strip(string.punctuation).upper() for char in _chars_only]\n",
    "        elif casesensitive and letters_only:\n",
    "            _chars_clean = [char.strip(string.punctuation) for char in _chars_only]\n",
    "        else:\n",
    "            _chars_clean = []\n",
    "        # use Counter from collections module\n",
    "        cnt_chars = Counter(_chars_clean)\n",
    "        char_dist = cnt_chars.most_common()  # [(char, num)]\n",
    "        # print('char_dist:\\n', char_dist)\n",
    "        char_dist_sorted = sorted(char_dist, key=lambda x: x[1], reverse=False)\n",
    "        print('char_dist_sorted:\\n', char_dist_sorted)\n",
    "        return char_dist\n",
    "\n",
    "    def plot_char_distribution(self, casesensitive=False, letters_only=False):\n",
    "        \"\"\"Plots distribution of most common characters in a bar chart\n",
    "        from matplotlib module.\n",
    "        \n",
    "        Keyword arguments:\n",
    "        casesensitive (bool) -- Returns uppercase words if False\n",
    "        (default).\n",
    "        letters_only (bool) -- Includes alpha characters only if True.\"\"\"\n",
    "        # convert list into DF\n",
    "        df_cd = pd.DataFrame(self.char_distribution(casesensitive, letters_only))\n",
    "        df_cd.columns = ['Character', 'Count']\n",
    "        df_cd.index = df_cd['Character']\n",
    "        # print(df_cd)\n",
    "        plt_chars = df_cd.plot(kind='bar',\n",
    "                               title='Character Distribution',\n",
    "                               figsize=(12, 6),\n",
    "                               width=.8,\n",
    "                               fontsize=16)\n",
    "        plt_chars.set_ylabel('Character', fontsize=20)\n",
    "        plt_chars.set_xlabel('Count', fontsize=20)\n",
    "        plt_chars.grid(True)\n",
    "\n",
    "    @property\n",
    "    def avg_word_length(self):\n",
    "        \"\"\"Calculates the average word length in content.\"\"\"\n",
    "        # _words = [_w.upper() for _w in self.words]\n",
    "        # print(f'Total # words:\\n {_words}')\n",
    "        _avg_word_length = sum([len(_w) for _w in self.words]) / self.word_count\n",
    "        # print(f'The average word length is {_avg_word_length:.2f} characters.')\n",
    "        return round(_avg_word_length, 2)\n",
    "\n",
    "    @property\n",
    "    def word_count(self):\n",
    "        \"\"\"Number words in content.\"\"\"\n",
    "        # print(f'Total word count: {len(self._words()):,}')\n",
    "        return len(self._words())\n",
    "\n",
    "    @property\n",
    "    def distinct_word_count(self):\n",
    "        \"\"\"Number of distinct words in content.\"\"\"\n",
    "        # print(f'Distinct word count: {len(set(self._words())):,}')\n",
    "        return len(set(self._words()))\n",
    "\n",
    "    @property\n",
    "    def words(self):\n",
    "        \"\"\"List of all words in content, including repeats, in UPPERCASE.\"\"\"\n",
    "        return self._words(casesensitive=False)\n",
    "\n",
    "    @property\n",
    "    def positivity(self):\n",
    "        \"\"\"Calculate positivity score defined as difference between the\n",
    "        number of words in a text that match a positive word corpus vs.\n",
    "        the number of words that match a negative word corpus.\n",
    "        Positivity score calculation:\n",
    "        Initialize local var tally to 0.\n",
    "        Increment tally by 1 for every word match in positive.txt.\n",
    "        Decrement tally by 1 for every word match in negative.txt.\n",
    "        Final positivity score:\n",
    "            round( tally / self.word_count * 1000)\"\"\"\n",
    "        # 1. read and parse positive word file 'positive.txt' into list\n",
    "        with open('positive.txt', 'r') as _f:\n",
    "            # f.read().strip(string.punctuation)\n",
    "            _pdoc = _f.readlines()  # .strip(string.punctuation)\n",
    "            pos_words = []\n",
    "        for word in _pdoc:\n",
    "            pos_words = [word.strip(string.punctuation).rstrip('\\n').upper() for word in _pdoc]\n",
    "            # print('pos_words:\\n', pos_words)\n",
    "        print(f'# of words in positive.txt is {len(pos_words):,}')\n",
    "        # dedup word list with set\n",
    "        print(f'# of distinct words in positive.txt is {len(set(pos_words)):,}\\n')\n",
    "        # 2. read and parse negative word file 'negative.txt' into list\n",
    "        with open('negative.txt', 'r') as _f:\n",
    "            _ndoc = _f.readlines()\n",
    "            neg_words = []\n",
    "        for word in _ndoc:\n",
    "            neg_words = [word.strip(string.punctuation).rstrip('\\n').upper() for word in _ndoc]\n",
    "            # print('neg_words:\\n', neg_words)\n",
    "        print(f'# of words in negative.txt is {len(neg_words):,}')\n",
    "        # create distinct word list with set\n",
    "        print(f'# of distinct words in negative.txt is {len(set(neg_words)):,}\\n')\n",
    "        # 3. calculate positivity score based on pos/neg word matches\n",
    "        _matches = []\n",
    "        _tally = 0\n",
    "        _pos = 0\n",
    "        _neg = 0\n",
    "        _words = self.words\n",
    "        for _w in _words:\n",
    "            for _p in pos_words:\n",
    "                if _w == _p:\n",
    "                    _pos += 1\n",
    "                    _tally += 1\n",
    "                    _matches.append((_w, _p, _tally))\n",
    "            for _n in neg_words:\n",
    "                if _w == _n:\n",
    "                    _neg += 1\n",
    "                    _tally -= 1\n",
    "                    _matches.append((_w, _n, _tally))\n",
    "        print(f'# of positive matches: {_pos:,}')\n",
    "        print(f'# of negative matches: {_neg:,}')\n",
    "        print(f'Tally of positive - negative matches: {_tally:,}')\n",
    "        # print(f'Check: Positive - Negative Matches (should equal tally: {(_pos - _neg):,}')\n",
    "        print(f'% positive matches: {_pos / (_pos + _neg):.1%}')\n",
    "        # _word_count = int(self.word_count)\n",
    "        _positivity = round(_tally / self.word_count * 1000)\n",
    "        print('Positivity score: ', '{:,}'.format(_positivity))\n",
    "        return _positivity\n"
   ]
  },
  {
   "cell_type": "code",
   "execution_count": 20,
   "metadata": {
    "scrolled": false
   },
   "outputs": [
    {
     "name": "stdout",
     "output_type": "stream",
     "text": [
      "Help on class TextAnalyzer in module __main__:\n",
      "\n",
      "class TextAnalyzer(builtins.object)\n",
      " |  Reads a source: url, text file or string obj and provides methods \n",
      " |  and properties as well as plots to analyze the distributions of words\n",
      " |  and characters in the text of the source file.\n",
      " |  \n",
      " |  Keyword arguments:\n",
      " |  src (obj) -- a url path, text file or string obj to analyze.\n",
      " |  src_type -- source type. Options are: url, path to text file, text \n",
      " |  string contained in program or discover method to determine source type.\n",
      " |  \n",
      " |  Methods defined here:\n",
      " |  \n",
      " |  __init__(self, src, src_type=None)\n",
      " |      Creates object from source file to analyze text.\n",
      " |      \n",
      " |      Keyword arguments:\n",
      " |      src (str) -- URL, path to text file or string containing text.\n",
      " |      src_type (str) -- file type of input source (URL, path to text file, \n",
      " |      string containing text or None to call discover method)\n",
      " |  \n",
      " |  char_distribution(self, casesensitive=False, letters_only=False)\n",
      " |      Returns a list of 2 element tuples (char, num) where char is\n",
      " |      character and num is the count of char.\n",
      " |      \n",
      " |      Keyword arguments:\n",
      " |      casesensitive (bool) -- Returns uppercase words if False (default).\n",
      " |      letters_only (bool) -- Includes alpha characters only if True.\n",
      " |  \n",
      " |  common_words(self, minlen=1, maxlen=100, count=10, casesensitive=False)\n",
      " |      Returns list of 2-element tuples in the format: (word: num) where\n",
      " |      num is a count of word occurences in the content obtained from the _words \n",
      " |      method using Counter().most_common() method from collections module.\n",
      " |      \n",
      " |      Keyword arguments:\n",
      " |      minlen (int) -- Minimum length for word to be included.\n",
      " |      maxlen (int) -- Maximum length for word to be included.\n",
      " |      count (int) -- Number of words to include in the results.\n",
      " |      casesensitive (bool) -- Returns uppercase words if False (default).\n",
      " |  \n",
      " |  discover(self)\n",
      " |      Determines if source object is an html file, text file or text string.\n",
      " |  \n",
      " |  fetch_by_src_type(self, src_type)\n",
      " |      Method using src_type to determine how to read the source file.\n",
      " |      \n",
      " |      Keyword arguments: src_type (str) -- URL, path to text file or \n",
      " |      text string.\n",
      " |  \n",
      " |  plot_char_distribution(self, casesensitive=False, letters_only=False)\n",
      " |      Plots distribution of most common characters in a bar chart from matplotlib module.\n",
      " |      \n",
      " |      Keyword arguments:\n",
      " |      casesensitive (bool) -- Returns uppercase words if False (default).\n",
      " |      letters_only (bool) -- Includes alpha characters only if True.\n",
      " |  \n",
      " |  plot_common_words(self, minlen=1, maxlen=100, count=10, casesensitive=False)\n",
      " |      Plots distribution of most common words in a bar chart from matplotlib module.\n",
      " |      \n",
      " |      Keyword arguments:\n",
      " |      minlen (int) -- Minimum length for word to be included.\n",
      " |      maxlen (int) -- Maximum length for word to be included.\n",
      " |      count (int) -- Number of words to include in the results.\n",
      " |      casesensitive (bool) -- Returns uppercase words if False (default).\n",
      " |  \n",
      " |  reset_content(self)\n",
      " |      Reset _content attribute to _orig_content fetched by requests module.\n",
      " |      Useful after call to set_content_to_tag method, e.g. if you want to use \n",
      " |      a different tag or id to analyze the same URL.\n",
      " |      \n",
      " |      Use when you want to create a new beautiful soup object based on a new\n",
      " |       tag or tag id using set_content_to_tag method. Saves call to requests\n",
      " |       module since html content is already in _orig_content attribute.\n",
      " |  \n",
      " |  set_content_to_tag(self, tag='div', tag_id='content-main')\n",
      " |      Method uses beautiful soup library to parse HTML for a given tag \n",
      " |      and id after call to fetch_by_src_type(src_type='url). \n",
      " |      Throws ValueError exception if tag not found. \n",
      " |      Method is only used if src_type is URL.\n",
      " |      \n",
      " |      Keyword arguments:\n",
      " |      tag('str') -- HTML tag name\n",
      " |      tag_id('str') -- HTML tag id\n",
      " |  \n",
      " |  ----------------------------------------------------------------------\n",
      " |  Data descriptors defined here:\n",
      " |  \n",
      " |  __dict__\n",
      " |      dictionary for instance variables (if defined)\n",
      " |  \n",
      " |  __weakref__\n",
      " |      list of weak references to the object (if defined)\n",
      " |  \n",
      " |  avg_word_length\n",
      " |      Calculates the average word length in content.\n",
      " |  \n",
      " |  distinct_word_count\n",
      " |      Number of distinct words in content.\n",
      " |  \n",
      " |  orig_content\n",
      " |      Property for directly access results from fetch method if needed.\n",
      " |  \n",
      " |  positivity\n",
      " |      Calculate positivity score defined as difference between the number\n",
      " |      of words in a text that match a positive word corpus vs. the number\n",
      " |      of words that match a negative word corpus.\n",
      " |      Positivity score calculation:\n",
      " |      Initialize local var tally to 0.\n",
      " |      Increment tally by 1 for every word match in positive.txt.\n",
      " |      Decrement tally by 1 for every word match in negative.txt.\n",
      " |      Final positivity score:\n",
      " |          round( tally / self.word_count * 1000)\n",
      " |  \n",
      " |  word_count\n",
      " |      Number words in content.\n",
      " |  \n",
      " |  words\n",
      " |      List of all words in content, including repeats, in UPPERCASE.\n",
      "\n"
     ]
    }
   ],
   "source": [
    "help(TextAnalyzer)"
   ]
  },
  {
   "cell_type": "markdown",
   "metadata": {},
   "source": [
    "## Tests\n",
    "When you have finished, you should run the tests below. If you get errors, you should do your very best to fix those errors before submitting the project.\n",
    "\n",
    "If you submit your project while still getting errors, you should explain that in your project submission email. The very first thing we will do to grade your project is run it through these tests. If it fails any of the tests, and you have not indicated that you are aware of specific test failures, we will stop grading and ask you to resubmit."
   ]
  },
  {
   "cell_type": "code",
   "execution_count": 4,
   "metadata": {
    "scrolled": false
   },
   "outputs": [
    {
     "name": "stderr",
     "output_type": "stream",
     "text": [
      "......."
     ]
    },
    {
     "name": "stdout",
     "output_type": "stream",
     "text": [
      "char_dist_sorted:\n",
      " [('V', 1), ('K', 2), ('G', 2), ('B', 3), ('P', 3), ('M', 4), ('Y', 4), ('C', 4), ('U', 5), ('W', 5), ('F', 5), ('S', 9), ('R', 9), ('D', 9), ('H', 10), ('L', 10), ('I', 12), ('A', 13), ('N', 16), ('O', 19), ('E', 20), ('T', 21)]\n",
      "self.minlen: 5\n",
      "self.maxlen: 10\n",
      "self.count: 10\n",
      "self.casesensitive: False\n",
      "Source type from discover method is path.\n",
      "Source type from discover method is text.\n",
      "Source type from discover method is url.\n",
      "# of words in positive.txt is 2,006\n",
      "# of distinct words in positive.txt is 2,006\n",
      "\n"
     ]
    },
    {
     "name": "stderr",
     "output_type": "stream",
     "text": [
      "."
     ]
    },
    {
     "name": "stdout",
     "output_type": "stream",
     "text": [
      "# of words in negative.txt is 4,783\n",
      "# of distinct words in negative.txt is 4,783\n",
      "\n",
      "# of positive matches: 1\n",
      "# of negative matches: 3\n",
      "Tally of positive - negative matches: -2\n",
      "% positive matches: 25.0%\n",
      "Positivity score:  -44\n",
      "Source type from discover method is url.\n"
     ]
    },
    {
     "name": "stderr",
     "output_type": "stream",
     "text": [
      "."
     ]
    },
    {
     "name": "stdout",
     "output_type": "stream",
     "text": [
      "confirm reset_content:  <\n",
      "Source type from discover method is url.\n"
     ]
    },
    {
     "name": "stderr",
     "output_type": "stream",
     "text": [
      "..\n",
      "----------------------------------------------------------------------\n",
      "Ran 11 tests in 15.188s\n",
      "\n",
      "OK\n"
     ]
    },
    {
     "data": {
      "text/plain": [
       "<unittest.runner.TextTestResult run=11 errors=0 failures=0>"
      ]
     },
     "execution_count": 4,
     "metadata": {},
     "output_type": "execute_result"
    }
   ],
   "source": [
    "import unittest\n",
    "\n",
    "url = 'https://www.webucator.com/how-to/address-by-bill-clinton-1997.cfm'\n",
    "path = 'pride-and-prejudice.txt'\n",
    "text = '''The outlook wasn't brilliant for the Mudville Nine that day;\n",
    "the score stood four to two, with but one inning more to play.\n",
    "And then when Cooney died at first, and Barrows did the same,\n",
    "a sickly silence fell upon the patrons of the game.'''\n",
    "\n",
    "class TestTextAnalyzer(unittest.TestCase):\n",
    "    def test_discover_url(self):\n",
    "        ta = TextAnalyzer(url)\n",
    "        self.assertEqual(ta._src_type, 'url')\n",
    "    def test_discover_path(self):\n",
    "        ta = TextAnalyzer(path)\n",
    "        self.assertEqual(ta._src_type, 'path')\n",
    "    def test_discover_text(self):\n",
    "        ta = TextAnalyzer(text)\n",
    "        self.assertEqual(ta._src_type, 'text')\n",
    "    def test_set_content_to_tag(self):\n",
    "        ta = TextAnalyzer(url)\n",
    "        ta.set_content_to_tag('div','content-main')\n",
    "        self.assertEqual(ta._content[0:25], '\\n\\nAddress by Bill Clinton')\n",
    "    def test_reset_content(self):\n",
    "        ta = TextAnalyzer(url)\n",
    "        ta.set_content_to_tag('div','content-main')\n",
    "        ta.reset_content()\n",
    "        self.assertEqual(ta._content[0], '<')\n",
    "    def test_common_words(self):\n",
    "        ta = TextAnalyzer(path, src_type='path')\n",
    "        common_words = ta.common_words(minlen=5, maxlen=10)\n",
    "        liz = common_words[0]\n",
    "        self.assertEqual(liz[0],'ELIZABETH')\n",
    "    def test_avg_word_length(self):\n",
    "        ta = TextAnalyzer(text, src_type='text')\n",
    "        self.assertEqual(ta.avg_word_length, 4.16)\n",
    "    def test_word_count(self):\n",
    "        ta = TextAnalyzer(text, src_type='text')\n",
    "        self.assertEqual(ta.word_count, 45)\n",
    "    def test_distinct_word_count(self):\n",
    "        ta = TextAnalyzer(text, src_type='text')\n",
    "        self.assertEqual(ta.distinct_word_count, 38)\n",
    "    def test_char_distribution(self):\n",
    "        ta = TextAnalyzer(text, src_type='text')\n",
    "        char_dist = ta.char_distribution(letters_only=True)\n",
    "        self.assertEqual(char_dist[1][1], 20)\n",
    "    def test_positivity(self):\n",
    "        ta = TextAnalyzer(text, src_type='text')\n",
    "        positivity = ta.positivity\n",
    "        self.assertEqual(positivity, -44)\n",
    "        \n",
    "suite = unittest.TestLoader().loadTestsFromTestCase(TestTextAnalyzer)\n",
    "unittest.TextTestRunner().run(suite)"
   ]
  },
  {
   "cell_type": "markdown",
   "metadata": {},
   "source": [
    "## Plots\n",
    "You should also run the cell below to make sure your plot methods work. They should produce plots that look like the images found at:\n",
    "* <a href=\"character-distribution.png\" target=\"image_win\">character-distribution.png</a>\n",
    "* <a href=\"common-words.png\" target=\"image_win\">common-words.png</a>"
   ]
  },
  {
   "cell_type": "code",
   "execution_count": 5,
   "metadata": {
    "scrolled": false
   },
   "outputs": [
    {
     "name": "stdout",
     "output_type": "stream",
     "text": [
      "self.minlen: 5\n",
      "self.maxlen: 100\n",
      "self.count: 10\n",
      "self.casesensitive: False\n",
      "self.minlen: 5\n",
      "self.maxlen: 10\n",
      "self.count: 10\n",
      "self.casesensitive: False\n",
      "self.minlen: 5\n",
      "self.maxlen: 10\n",
      "self.count: 10\n",
      "self.casesensitive: False\n",
      "df_cw shape is:  (10, 2)\n",
      "char_dist_sorted:\n",
      " [('Q', 627), ('X', 839), ('J', 871), ('Z', 936), ('K', 3209), ('V', 5726), ('P', 8226), ('B', 9089), ('G', 10033), ('F', 12001), ('W', 12308), ('Y', 12705), ('C', 13461), ('M', 14765), ('U', 14986), ('L', 21592), ('D', 22299), ('R', 32300), ('S', 33110), ('H', 34069), ('N', 37688), ('I', 37830), ('O', 40043), ('A', 41682), ('T', 46645), ('E', 69372)]\n"
     ]
    },
    {
     "data": {
      "image/png": "[encoded data removed]",
      "text/plain": [
       "<matplotlib.figure.Figure at 0x1051e9ba8>"
      ]
     },
     "metadata": {},
     "output_type": "display_data"
    },
    {
     "data": {
      "image/png": "[encoded data removed]",
      "text/plain": [
       "<matplotlib.figure.Figure at 0x118c57d30>"
      ]
     },
     "metadata": {},
     "output_type": "display_data"
    }
   ],
   "source": [
    "%matplotlib inline\n",
    "import numpy as np\n",
    "import pandas as pd\n",
    "\n",
    "pd.set_option('display.max_columns', 10)\n",
    "pd.set_option('display.max_rows', 10)\n",
    "\n",
    "ta = TextAnalyzer('pride-and-prejudice.txt', src_type='path')\n",
    "ta.plot_common_words(minlen=5)\n",
    "ta.plot_char_distribution(letters_only=True)"
   ]
  },
  {
   "cell_type": "markdown",
   "metadata": {},
   "source": [
    "## Exam: Using the TextAnalyzer"
   ]
  },
  {
   "cell_type": "markdown",
   "metadata": {},
   "source": [
    "### Question 1\n",
    "How many words are in the text of William Henry Harrison's 1841 inaugaral address?\n",
    "* The address can be found at https://www.webucator.com/how-to/william-henry-harrisons-inaugural-address.cfm.\n",
    "* Its contents are in a div tag with the id 'content-main'."
   ]
  },
  {
   "cell_type": "code",
   "execution_count": 6,
   "metadata": {},
   "outputs": [
    {
     "name": "stdout",
     "output_type": "stream",
     "text": [
      "Total word count in https://www.webucator.com/how-to/william-henry-harrisons-inaugural-address.cfm is 9,615.\n"
     ]
    }
   ],
   "source": [
    "#write code here\n",
    "url = 'https://www.webucator.com/how-to/william-henry-harrisons-inaugural-address.cfm'\n",
    "ta = TextAnalyzer(url,src_type='url')\n",
    "ta.set_content_to_tag(tag='div', tag_id='content-main')\n",
    "print(f'Total word count in {url} is {ta.word_count:,}.')"
   ]
  },
  {
   "cell_type": "markdown",
   "metadata": {},
   "source": [
    "### Question 2\n",
    "What is the least common letter in pride-and-prejudice.txt?"
   ]
  },
  {
   "cell_type": "code",
   "execution_count": 7,
   "metadata": {},
   "outputs": [
    {
     "name": "stdout",
     "output_type": "stream",
     "text": [
      "char_dist_sorted:\n",
      " [('Q', 627), ('X', 839), ('J', 871), ('Z', 936), ('K', 3209), ('V', 5726), ('P', 8226), ('B', 9089), ('G', 10033), ('F', 12001), ('W', 12308), ('Y', 12705), ('C', 13461), ('M', 14765), ('U', 14986), ('L', 21592), ('D', 22299), ('R', 32300), ('S', 33110), ('H', 34069), ('N', 37688), ('I', 37830), ('O', 40043), ('A', 41682), ('T', 46645), ('E', 69372)]\n",
      "Least common letter in pride-and-prejudice.txt is Q.\n"
     ]
    }
   ],
   "source": [
    "#write code here\n",
    "path = 'pride-and-prejudice.txt'\n",
    "ta = TextAnalyzer(path, src_type='path')\n",
    "char_list_tup = ta.char_distribution(casesensitive=False, letters_only=True)\n",
    "print(f'Least common letter in {path} is {min(char_list_tup,key=lambda item:item[1])[0]}.')"
   ]
  },
  {
   "cell_type": "markdown",
   "metadata": {},
   "source": [
    "### Question 3\n",
    "What is the most common 11-letter word in pride-and-prejudice.txt?  "
   ]
  },
  {
   "cell_type": "code",
   "execution_count": 8,
   "metadata": {
    "scrolled": false
   },
   "outputs": [
    {
     "name": "stdout",
     "output_type": "stream",
     "text": [
      "self.minlen: 11\n",
      "self.maxlen: 11\n",
      "self.count: 1\n",
      "self.casesensitive: False\n",
      "Most common 11 letter word in pride-and-prejudice.txt is NETHERFIELD.\n"
     ]
    }
   ],
   "source": [
    "#write code here\n",
    "path = 'pride-and-prejudice.txt'\n",
    "ta = TextAnalyzer(path, src_type='path')\n",
    "print(f'Most common 11 letter word in {path} is {ta.common_words(minlen=11, maxlen=11, count=1, casesensitive=False)[0][0]}.')"
   ]
  },
  {
   "cell_type": "markdown",
   "metadata": {},
   "source": [
    "### Question 4\n",
    "What is the average word length in pride-and-prejudice.txt?"
   ]
  },
  {
   "cell_type": "code",
   "execution_count": 9,
   "metadata": {},
   "outputs": [
    {
     "name": "stdout",
     "output_type": "stream",
     "text": [
      "Average word length in pride-and-prejudice.txt is: 4.43\n"
     ]
    }
   ],
   "source": [
    "#write code here\n",
    "path = 'pride-and-prejudice.txt'\n",
    "ta = TextAnalyzer(path, src_type='path')\n",
    "# type(ta.avg_word_length)  # had to move int() out of round() calc to correct TypeError: int object not callable\n",
    "print(f'Average word length in {path} is: {ta.avg_word_length}') "
   ]
  },
  {
   "cell_type": "markdown",
   "metadata": {},
   "source": [
    "### Question 5\n",
    "How many distinct words are there in pride-and-prejudice.txt?"
   ]
  },
  {
   "cell_type": "code",
   "execution_count": 10,
   "metadata": {},
   "outputs": [
    {
     "name": "stdout",
     "output_type": "stream",
     "text": [
      "Distinct word count in pride-and-prejudice.txt is 6,839.\n"
     ]
    }
   ],
   "source": [
    "#write code here\n",
    "path = 'pride-and-prejudice.txt'\n",
    "ta = TextAnalyzer(path, src_type='path')\n",
    "print(f'Distinct word count in {path} is {ta.distinct_word_count:,}.')"
   ]
  },
  {
   "cell_type": "markdown",
   "metadata": {},
   "source": [
    "### Question 6\n",
    "How many words, ignoring case, are used only once in pride-and-prejudice.txt?"
   ]
  },
  {
   "cell_type": "code",
   "execution_count": 11,
   "metadata": {
    "scrolled": false
   },
   "outputs": [
    {
     "name": "stdout",
     "output_type": "stream",
     "text": [
      "self.minlen: 5\n",
      "self.maxlen: 10\n",
      "self.count: None\n",
      "self.casesensitive: False\n",
      "Number of words used once in pride-and-prejudice.txt is 2,089.\n"
     ]
    }
   ],
   "source": [
    "#write code here\n",
    "path = 'pride-and-prejudice.txt'\n",
    "ta = TextAnalyzer(path, src_type='path') \n",
    "list_tup = ta.common_words(minlen=5,maxlen=10,count=None,casesensitive=False)\n",
    "# print(list_tup)\n",
    "once = []\n",
    "sum = 0\n",
    "for item in list_tup:\n",
    "    for c in item:\n",
    "        if c == 1:\n",
    "            sum += 1\n",
    "            once.append(item)\n",
    "print(f'Number of words used once in {path} is {sum:,}.')"
   ]
  },
  {
   "cell_type": "markdown",
   "metadata": {},
   "source": [
    "### Question 7\n",
    "How many distinct words in pride-and-prejudice.txt have less than five characters, at least one character of which is a capital 'A'."
   ]
  },
  {
   "cell_type": "code",
   "execution_count": 12,
   "metadata": {},
   "outputs": [
    {
     "name": "stdout",
     "output_type": "stream",
     "text": [
      "Number of distinct words with 5 or less characters and contain 'A' in pride-and-prejudice.txt is 19.\n",
      "\n",
      "{'At', 'An', 'Away', 'After', 'Ah', 'April', 'About', 'Allow', 'Again', 'Are', 'Anne', 'And', 'Adieu', 'All', 'Any', 'Among', 'A', 'As', 'Aye'}\n"
     ]
    }
   ],
   "source": [
    "#write code here\n",
    "path = 'pride-and-prejudice.txt'\n",
    "ta = TextAnalyzer(path, src_type='path') \n",
    "_word_list = ta._words(casesensitive=True)\n",
    "# print(_word_list)\n",
    "\n",
    "words = set([w for w in _word_list if w.isalpha() and len(w) <= 5 and w[0] in 'A'])\n",
    "print(f\"Number of distinct words with 5 or less characters and contain 'A' in {path} is {len(words):,}.\\n\")\n",
    "print(words)"
   ]
  },
  {
   "cell_type": "markdown",
   "metadata": {},
   "source": [
    "### Question 8\n",
    "A palindrome is a word spelled the same forwards and backwards, like BOB. How many distinct palindromes are there in pride-and-prejudice.txt.\n",
    "* Only include words with at least three letters."
   ]
  },
  {
   "cell_type": "code",
   "execution_count": 13,
   "metadata": {},
   "outputs": [
    {
     "name": "stdout",
     "output_type": "stream",
     "text": [
      "Number of distinct palindromes in pride-and-prejudice.txt with 3 or more characters is 8.\n",
      "{'EYE', 'NOON', 'PEEP', 'ERE', 'MADAM', 'GIG', 'SEES', 'DID'}\n"
     ]
    }
   ],
   "source": [
    "#write code here\n",
    "path = 'pride-and-prejudice.txt'\n",
    "ta = TextAnalyzer(path, src_type='path') \n",
    "_word_list = ta._words(casesensitive=False)\n",
    "pld = set([w.upper() for w in _word_list if w.isalpha() and len(w) >= 3 and w.upper() == w[::-1].upper()])  \n",
    "# :: operator x[::-1] -- every other item in reverse order\n",
    "print(f\"Number of distinct palindromes in {path} with 3 or more characters is {len(pld):,}.\")\n",
    "print(pld)"
   ]
  },
  {
   "cell_type": "markdown",
   "metadata": {},
   "source": [
    "### Question 9\n",
    "What is the positivity rating of 'pride-and-prejudice.txt'"
   ]
  },
  {
   "cell_type": "code",
   "execution_count": 14,
   "metadata": {},
   "outputs": [
    {
     "name": "stdout",
     "output_type": "stream",
     "text": [
      "# of words in positive.txt is 2,006\n",
      "# of distinct words in positive.txt is 2,006\n",
      "\n",
      "# of words in negative.txt is 4,783\n",
      "# of distinct words in negative.txt is 4,783\n",
      "\n",
      "# of positive matches: 4,987\n",
      "# of negative matches: 3,623\n",
      "Tally of positive - negative matches: 1,364\n",
      "% positive matches: 57.9%\n",
      "Positivity score:  11\n",
      "The positivity rating for pride-and-prejudice.txt is 11.\n"
     ]
    }
   ],
   "source": [
    "#write code here\n",
    "path = 'pride-and-prejudice.txt'\n",
    "ta = TextAnalyzer(path, src_type='path')\n",
    "print(f'The positivity rating for {path} is {ta.positivity}.') "
   ]
  },
  {
   "cell_type": "markdown",
   "metadata": {},
   "source": [
    "### Question 10\n",
    "Which of the following addresses (originally from http://www.inaugural.senate.gov/swearing-in/addresses) has the lowest positivity rating?\n",
    "1. https://www.webucator.com/how-to/george-bushs-inaugural-address.cfm\n",
    "1. https://www.webucator.com/how-to/harry-s-trumans-inaugural-address.cfm\n",
    "1. https://www.webucator.com/how-to/william-mckinleys-inaugural-address.cfm\n",
    "1. https://www.webucator.com/how-to/zachary-taylors-inaugural-address.cfm\n",
    "\n",
    "Note the contents of the addresses are in a div tag with the id 'content-main'."
   ]
  },
  {
   "cell_type": "code",
   "execution_count": 15,
   "metadata": {},
   "outputs": [
    {
     "name": "stdout",
     "output_type": "stream",
     "text": [
      "# of words in positive.txt is 2,006\n",
      "# of distinct words in positive.txt is 2,006\n",
      "\n",
      "# of words in negative.txt is 4,783\n",
      "# of distinct words in negative.txt is 4,783\n",
      "\n",
      "# of positive matches: 106\n",
      "# of negative matches: 48\n",
      "Tally of positive - negative matches: 58\n",
      "% positive matches: 68.8%\n",
      "Positivity score:  21\n",
      "Positivity rating for https://www.webucator.com/how-to/george-bushs-inaugural-address.cfm is 21.\n"
     ]
    }
   ],
   "source": [
    "#write code here\n",
    "url = 'https://www.webucator.com/how-to/george-bushs-inaugural-address.cfm'\n",
    "ta = TextAnalyzer(url,src_type='url')\n",
    "ta.set_content_to_tag(tag='div', tag_id='content-main')\n",
    "print(f'Positivity rating for {url} is {ta.positivity}.')"
   ]
  },
  {
   "cell_type": "code",
   "execution_count": 16,
   "metadata": {},
   "outputs": [
    {
     "name": "stdout",
     "output_type": "stream",
     "text": [
      "# of words in positive.txt is 2,006\n",
      "# of distinct words in positive.txt is 2,006\n",
      "\n",
      "# of words in negative.txt is 4,783\n",
      "# of distinct words in negative.txt is 4,783\n",
      "\n",
      "# of positive matches: 147\n",
      "# of negative matches: 48\n",
      "Tally of positive - negative matches: 99\n",
      "% positive matches: 75.4%\n",
      "Positivity score:  29\n",
      "Positivity rating for https://www.webucator.com/how-to/harry-s-trumans-inaugural-address.cfm is 29\n"
     ]
    }
   ],
   "source": [
    "#write code here\n",
    "url = 'https://www.webucator.com/how-to/harry-s-trumans-inaugural-address.cfm'\n",
    "ta = TextAnalyzer(url,src_type='url')\n",
    "ta.set_content_to_tag(tag='div', tag_id='content-main')\n",
    "print(f'Positivity rating for {url} is {ta.positivity}')"
   ]
  },
  {
   "cell_type": "code",
   "execution_count": 17,
   "metadata": {},
   "outputs": [
    {
     "name": "stdout",
     "output_type": "stream",
     "text": [
      "# of words in positive.txt is 2,006\n",
      "# of distinct words in positive.txt is 2,006\n",
      "\n",
      "# of words in negative.txt is 4,783\n",
      "# of distinct words in negative.txt is 4,783\n",
      "\n",
      "# of positive matches: 120\n",
      "# of negative matches: 51\n",
      "Tally of positive - negative matches: 69\n",
      "% positive matches: 70.2%\n",
      "Positivity score:  20\n",
      "Positivity rating for https://www.webucator.com/how-to/william-mckinleys-inaugural-address.cfm is 20\n"
     ]
    }
   ],
   "source": [
    "#write code here\n",
    "url = 'https://www.webucator.com/how-to/william-mckinleys-inaugural-address.cfm'\n",
    "ta = TextAnalyzer(url,src_type='url')\n",
    "ta.set_content_to_tag(tag='div', tag_id='content-main')\n",
    "print(f'Positivity rating for {url} is {ta.positivity}')"
   ]
  },
  {
   "cell_type": "code",
   "execution_count": 18,
   "metadata": {},
   "outputs": [
    {
     "name": "stdout",
     "output_type": "stream",
     "text": [
      "# of words in positive.txt is 2,006\n",
      "# of distinct words in positive.txt is 2,006\n",
      "\n",
      "# of words in negative.txt is 4,783\n",
      "# of distinct words in negative.txt is 4,783\n",
      "\n",
      "# of positive matches: 78\n",
      "# of negative matches: 20\n",
      "Tally of positive - negative matches: 58\n",
      "% positive matches: 79.6%\n",
      "Positivity score:  26\n",
      "Positivity rating for https://www.webucator.com/how-to/zachary-taylors-inaugural-address.cfm is 26\n"
     ]
    }
   ],
   "source": [
    "#write code here\n",
    "url = 'https://www.webucator.com/how-to/zachary-taylors-inaugural-address.cfm'\n",
    "ta = TextAnalyzer(url,src_type='url')\n",
    "ta.set_content_to_tag(tag='div', tag_id='content-main')\n",
    "print(f'Positivity rating for {url} is {ta.positivity}')"
   ]
  },
  {
   "cell_type": "markdown",
   "metadata": {},
   "source": [
    "### William McKinley's had the lowest positivity rating for his inaugral address at a score of 20."
   ]
  },
  {
   "cell_type": "code",
   "execution_count": null,
   "metadata": {},
   "outputs": [],
   "source": []
  }
 ],
 "metadata": {
  "kernelspec": {
   "display_name": "Python 3",
   "language": "python",
   "name": "python3"
  },
  "language_info": {
   "codemirror_mode": {
    "name": "ipython",
    "version": 3
   },
   "file_extension": ".py",
   "mimetype": "text/x-python",
   "name": "python",
   "nbconvert_exporter": "python",
   "pygments_lexer": "ipython3",
   "version": "3.6.5"
  }
 },
 "nbformat": 4,
 "nbformat_minor": 1
}
